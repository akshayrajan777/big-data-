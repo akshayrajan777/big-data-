{
 "cells": [
  {
   "cell_type": "code",
   "execution_count": 132,
   "id": "f173ed7b-5e07-4943-a172-acae03776517",
   "metadata": {},
   "outputs": [],
   "source": [
    "import pandas as pd\n",
    "import numpy as np\n",
    "import pyspark.sql.functions as F\n",
    "from pyspark.sql import SparkSession\n",
    "from pyspark.sql.functions import isnan, when, count, col\n",
    "from pyspark.sql.types import IntegerType, FloatType\n",
    "from pyspark.ml.feature import VectorAssembler, StandardScaler\n",
    "from pyspark.ml.regression import LinearRegression, GBTRegressor, RandomForestRegressor\n",
    "from pyspark.ml.evaluation import RegressionEvaluator\n",
    "from pyspark.ml import Pipeline"
   ]
  },
  {
   "cell_type": "code",
   "execution_count": 138,
   "id": "5940a0d6-7ae8-4af8-9430-2c1582c2d41c",
   "metadata": {},
   "outputs": [],
   "source": [
    "stock_session = SparkSession.builder.appName('Google Stock').getOrCreate()\n",
    " \n",
    "google_df = stock_session.read.csv('GOOG.csv', sep=',', inferSchema=True, header=True)"
   ]
  },
  {
   "cell_type": "code",
   "execution_count": 4,
   "id": "cca03b73-b494-465b-953b-d0324f8d7795",
   "metadata": {},
   "outputs": [
    {
     "name": "stdout",
     "output_type": "stream",
     "text": [
      "+------+--------------------+------+--------+--------+------+-------+--------+--------+--------+-------+---------+-------+-----------+\n",
      "|symbol|                date| close|    high|     low|  open| volume|adjClose| adjHigh|  adjLow|adjOpen|adjVolume|divCash|splitFactor|\n",
      "+------+--------------------+------+--------+--------+------+-------+--------+--------+--------+-------+---------+-------+-----------+\n",
      "|  GOOG|2016-06-14 00:00:...|718.27|  722.47|  713.12|716.48|1306065|  718.27|  722.47|  713.12| 716.48|  1306065|    0.0|        1.0|\n",
      "|  GOOG|2016-06-15 00:00:...|718.92|  722.98|  717.31| 719.0|1214517|  718.92|  722.98|  717.31|  719.0|  1214517|    0.0|        1.0|\n",
      "|  GOOG|2016-06-16 00:00:...|710.36|  716.65|  703.26|714.91|1982471|  710.36|  716.65|  703.26| 714.91|  1982471|    0.0|        1.0|\n",
      "|  GOOG|2016-06-17 00:00:...|691.72|  708.82|688.4515|708.65|3402357|  691.72|  708.82|688.4515| 708.65|  3402357|    0.0|        1.0|\n",
      "|  GOOG|2016-06-20 00:00:...|693.71|  702.48|  693.41|698.77|2082538|  693.71|  702.48|  693.41| 698.77|  2082538|    0.0|        1.0|\n",
      "|  GOOG|2016-06-21 00:00:...|695.94|  702.77|  692.01| 698.4|1465634|  695.94|  702.77|  692.01|  698.4|  1465634|    0.0|        1.0|\n",
      "|  GOOG|2016-06-22 00:00:...|697.46|  700.86|693.0819|699.06|1184318|  697.46|  700.86|693.0819| 699.06|  1184318|    0.0|        1.0|\n",
      "|  GOOG|2016-06-23 00:00:...|701.87|  701.95|   687.0|697.45|2171415|  701.87|  701.95|   687.0| 697.45|  2171415|    0.0|        1.0|\n",
      "|  GOOG|2016-06-24 00:00:...|675.22|   689.4|  673.45|675.17|4449022|  675.22|   689.4|  673.45| 675.17|  4449022|    0.0|        1.0|\n",
      "|  GOOG|2016-06-27 00:00:...|668.26|   672.3| 663.284| 671.0|2641085|  668.26|   672.3| 663.284|  671.0|  2641085|    0.0|        1.0|\n",
      "|  GOOG|2016-06-28 00:00:...|680.04|  680.33|   673.0|678.97|2173762|  680.04|  680.33|   673.0| 678.97|  2173762|    0.0|        1.0|\n",
      "|  GOOG|2016-06-29 00:00:...|684.11|687.4292|  681.41| 683.0|1932561|  684.11|687.4292|  681.41|  683.0|  1932561|    0.0|        1.0|\n",
      "|  GOOG|2016-06-30 00:00:...| 692.1|  692.32|  683.65|685.47|1597714|   692.1|  692.32|  683.65| 685.47|  1597714|    0.0|        1.0|\n",
      "|  GOOG|2016-07-01 00:00:...|699.21|  700.65|692.1301| 692.2|1344710|  699.21|  700.65|692.1301|  692.2|  1344710|    0.0|        1.0|\n",
      "|  GOOG|2016-07-05 00:00:...|694.49|  696.94|  688.88|696.06|1462616|  694.49|  696.94|  688.88| 696.06|  1462616|    0.0|        1.0|\n",
      "|  GOOG|2016-07-06 00:00:...|697.77|  701.68|  689.09|689.98|1411925|  697.77|  701.68|  689.09| 689.98|  1411925|    0.0|        1.0|\n",
      "|  GOOG|2016-07-07 00:00:...|695.36|   698.2| 688.215|698.08|1304200|  695.36|   698.2| 688.215| 698.08|  1304200|    0.0|        1.0|\n",
      "|  GOOG|2016-07-08 00:00:...|705.63|  705.71| 696.435| 699.5|1575166|  705.63|  705.71| 696.435|  699.5|  1575166|    0.0|        1.0|\n",
      "|  GOOG|2016-07-11 00:00:...|715.09|  716.51|  707.24|708.05|1111762|  715.09|  716.51|  707.24| 708.05|  1111762|    0.0|        1.0|\n",
      "|  GOOG|2016-07-12 00:00:...|720.64|  722.94|  715.91|719.12|1336921|  720.64|  722.94|  715.91| 719.12|  1336921|    0.0|        1.0|\n",
      "+------+--------------------+------+--------+--------+------+-------+--------+--------+--------+-------+---------+-------+-----------+\n",
      "only showing top 20 rows\n",
      "\n"
     ]
    }
   ],
   "source": [
    "google_df.show()"
   ]
  },
  {
   "cell_type": "code",
   "execution_count": 12,
   "id": "745df860-4325-48a5-90a7-c410d22f8ac1",
   "metadata": {},
   "outputs": [
    {
     "name": "stdout",
     "output_type": "stream",
     "text": [
      "Total row in dataset is 1258\n",
      "Columns in dataset are ['symbol', 'date', 'close', 'high', 'low', 'open', 'volume', 'adjClose', 'adjHigh', 'adjLow', 'adjOpen', 'adjVolume', 'divCash', 'splitFactor']\n"
     ]
    }
   ],
   "source": [
    "rows = google_df.count()\n",
    "col = google_df.columns\n",
    "print('Total row in dataset is', rows)\n",
    "print('Columns in dataset are', col)"
   ]
  },
  {
   "cell_type": "code",
   "execution_count": 13,
   "id": "88082d2d-77b8-4396-a55b-20baa0c45f9b",
   "metadata": {},
   "outputs": [
    {
     "name": "stdout",
     "output_type": "stream",
     "text": [
      "Columns with datatype and null value\n",
      "root\n",
      " |-- symbol: string (nullable = true)\n",
      " |-- date: string (nullable = true)\n",
      " |-- close: double (nullable = true)\n",
      " |-- high: double (nullable = true)\n",
      " |-- low: double (nullable = true)\n",
      " |-- open: double (nullable = true)\n",
      " |-- volume: integer (nullable = true)\n",
      " |-- adjClose: double (nullable = true)\n",
      " |-- adjHigh: double (nullable = true)\n",
      " |-- adjLow: double (nullable = true)\n",
      " |-- adjOpen: double (nullable = true)\n",
      " |-- adjVolume: integer (nullable = true)\n",
      " |-- divCash: double (nullable = true)\n",
      " |-- splitFactor: double (nullable = true)\n",
      "\n"
     ]
    }
   ],
   "source": [
    "print('Columns with datatype and null value')\n",
    "google_df.printSchema()"
   ]
  },
  {
   "cell_type": "code",
   "execution_count": 17,
   "id": "7d97822a-1ac5-485b-b15c-2d0739e1c61f",
   "metadata": {},
   "outputs": [
    {
     "name": "stdout",
     "output_type": "stream",
     "text": [
      "Rows left after dropping are 1258\n"
     ]
    }
   ],
   "source": [
    "non_duplicated_df = google_df.distinct()\n",
    "print('Rows left after dropping are', non_duplicated_df.count())"
   ]
  },
  {
   "cell_type": "code",
   "execution_count": 23,
   "id": "09176bb5-bddb-4512-8ffe-b771956d3608",
   "metadata": {},
   "outputs": [
    {
     "name": "stdout",
     "output_type": "stream",
     "text": [
      "Distinct Count in columns symbol are 1\n",
      "Distinct Count in columns date are 1258\n",
      "Distinct Count in columns close are 1247\n",
      "Distinct Count in columns high are 1240\n",
      "Distinct Count in columns low are 1244\n",
      "Distinct Count in columns open are 1227\n",
      "Distinct Count in columns volume are 1258\n",
      "Distinct Count in columns adjClose are 1247\n",
      "Distinct Count in columns adjHigh are 1240\n",
      "Distinct Count in columns adjLow are 1244\n",
      "Distinct Count in columns adjOpen are 1227\n",
      "Distinct Count in columns adjVolume are 1258\n",
      "Distinct Count in columns divCash are 1\n",
      "Distinct Count in columns splitFactor are 1\n"
     ]
    }
   ],
   "source": [
    "for col in google_df.columns:\n",
    "    distinct_count = non_duplicated_df.select(col).distinct().count()\n",
    "    print(f'Distinct Count in columns {col} are {distinct_count}')"
   ]
  },
  {
   "cell_type": "code",
   "execution_count": 69,
   "id": "e281dbd1-13cc-4ec9-a7c4-229f67613a6d",
   "metadata": {},
   "outputs": [],
   "source": [
    "# variation is zero as all the three columns has single value so they provid no new infromation\n",
    "col_to_drop = ['symbol', 'divCash', 'splitFactor']\n",
    "clean_df = non_duplicated_df.drop(*col_to_drop)\n",
    "update_df = clean_df.select(F.col(\"date\"),F.to_date(F.col(\"date\"),\"yyyy-MM-dd HH:mm:ss+SS:SS\").alias(\"updated_date\")).select('date', 'updated_date')\n",
    "clean_df = clean_df.join(update_df ,['date'], \"outer\")\n",
    "final_df = clean_df.drop('date')"
   ]
  },
  {
   "cell_type": "code",
   "execution_count": 70,
   "id": "a332b31d-80f0-4780-8c27-7dd58a22a0f1",
   "metadata": {},
   "outputs": [
    {
     "name": "stdout",
     "output_type": "stream",
     "text": [
      "+------+--------+--------+------+-------+--------+--------+--------+-------+---------+------------+\n",
      "| close|    high|     low|  open| volume|adjClose| adjHigh|  adjLow|adjOpen|adjVolume|updated_date|\n",
      "+------+--------+--------+------+-------+--------+--------+--------+-------+---------+------------+\n",
      "|718.27|  722.47|  713.12|716.48|1306065|  718.27|  722.47|  713.12| 716.48|  1306065|  2016-06-14|\n",
      "|718.92|  722.98|  717.31| 719.0|1214517|  718.92|  722.98|  717.31|  719.0|  1214517|  2016-06-15|\n",
      "|710.36|  716.65|  703.26|714.91|1982471|  710.36|  716.65|  703.26| 714.91|  1982471|  2016-06-16|\n",
      "|691.72|  708.82|688.4515|708.65|3402357|  691.72|  708.82|688.4515| 708.65|  3402357|  2016-06-17|\n",
      "|693.71|  702.48|  693.41|698.77|2082538|  693.71|  702.48|  693.41| 698.77|  2082538|  2016-06-20|\n",
      "|695.94|  702.77|  692.01| 698.4|1465634|  695.94|  702.77|  692.01|  698.4|  1465634|  2016-06-21|\n",
      "|697.46|  700.86|693.0819|699.06|1184318|  697.46|  700.86|693.0819| 699.06|  1184318|  2016-06-22|\n",
      "|701.87|  701.95|   687.0|697.45|2171415|  701.87|  701.95|   687.0| 697.45|  2171415|  2016-06-23|\n",
      "|675.22|   689.4|  673.45|675.17|4449022|  675.22|   689.4|  673.45| 675.17|  4449022|  2016-06-24|\n",
      "|668.26|   672.3| 663.284| 671.0|2641085|  668.26|   672.3| 663.284|  671.0|  2641085|  2016-06-27|\n",
      "|680.04|  680.33|   673.0|678.97|2173762|  680.04|  680.33|   673.0| 678.97|  2173762|  2016-06-28|\n",
      "|684.11|687.4292|  681.41| 683.0|1932561|  684.11|687.4292|  681.41|  683.0|  1932561|  2016-06-29|\n",
      "| 692.1|  692.32|  683.65|685.47|1597714|   692.1|  692.32|  683.65| 685.47|  1597714|  2016-06-30|\n",
      "|699.21|  700.65|692.1301| 692.2|1344710|  699.21|  700.65|692.1301|  692.2|  1344710|  2016-07-01|\n",
      "|694.49|  696.94|  688.88|696.06|1462616|  694.49|  696.94|  688.88| 696.06|  1462616|  2016-07-05|\n",
      "|697.77|  701.68|  689.09|689.98|1411925|  697.77|  701.68|  689.09| 689.98|  1411925|  2016-07-06|\n",
      "|695.36|   698.2| 688.215|698.08|1304200|  695.36|   698.2| 688.215| 698.08|  1304200|  2016-07-07|\n",
      "|705.63|  705.71| 696.435| 699.5|1575166|  705.63|  705.71| 696.435|  699.5|  1575166|  2016-07-08|\n",
      "|715.09|  716.51|  707.24|708.05|1111762|  715.09|  716.51|  707.24| 708.05|  1111762|  2016-07-11|\n",
      "|720.64|  722.94|  715.91|719.12|1336921|  720.64|  722.94|  715.91| 719.12|  1336921|  2016-07-12|\n",
      "+------+--------+--------+------+-------+--------+--------+--------+-------+---------+------------+\n",
      "only showing top 20 rows\n",
      "\n"
     ]
    }
   ],
   "source": [
    "final_df.show()"
   ]
  },
  {
   "cell_type": "code",
   "execution_count": 92,
   "id": "0b9c4306-921d-44fa-a1bc-1b393a0486d4",
   "metadata": {},
   "outputs": [
    {
     "name": "stdout",
     "output_type": "stream",
     "text": [
      "Null value in close are 0\n",
      "Null value in high are 0\n",
      "Null value in low are 0\n",
      "Null value in open are 0\n",
      "Null value in volume are 0\n",
      "Null value in adjClose are 0\n",
      "Null value in adjHigh are 0\n",
      "Null value in adjLow are 0\n",
      "Null value in adjOpen are 0\n",
      "Null value in adjVolume are 0\n",
      "Null value in updated_date are 0\n"
     ]
    }
   ],
   "source": [
    "# null_value = {col:df.filter(df[col].isNull()).count() for col in final_df.columns}\n",
    "for col in final_df.columns:\n",
    "    try:\n",
    "        null_values = final_df.select([F.count(F.when(F.isnan('volume'),True))]).collect().count(0)\n",
    "        print(f'Null value in {col} are {null_values}')\n",
    "    except:\n",
    "        pass"
   ]
  },
  {
   "cell_type": "code",
   "execution_count": 95,
   "id": "4fbdfee7-f868-4729-8d46-21387c9d0d6b",
   "metadata": {},
   "outputs": [
    {
     "name": "stdout",
     "output_type": "stream",
     "text": [
      "+------+------+\n",
      "|  open| close|\n",
      "+------+------+\n",
      "|716.48|718.27|\n",
      "| 719.0|718.92|\n",
      "|714.91|710.36|\n",
      "|708.65|691.72|\n",
      "|698.77|693.71|\n",
      "| 698.4|695.94|\n",
      "|699.06|697.46|\n",
      "|697.45|701.87|\n",
      "|675.17|675.22|\n",
      "| 671.0|668.26|\n",
      "|678.97|680.04|\n",
      "| 683.0|684.11|\n",
      "|685.47| 692.1|\n",
      "| 692.2|699.21|\n",
      "|696.06|694.49|\n",
      "|689.98|697.77|\n",
      "|698.08|695.36|\n",
      "| 699.5|705.63|\n",
      "|708.05|715.09|\n",
      "|719.12|720.64|\n",
      "+------+------+\n",
      "only showing top 20 rows\n",
      "\n"
     ]
    }
   ],
   "source": [
    "final_df.select('open', 'close').show()"
   ]
  },
  {
   "cell_type": "markdown",
   "id": "79b42aed-dd04-4836-91c0-86991157ffbd",
   "metadata": {},
   "source": [
    "## Data Prediction"
   ]
  },
  {
   "cell_type": "code",
   "execution_count": 106,
   "id": "2dc292e6-34d6-4866-8ae9-6742e93d48c9",
   "metadata": {},
   "outputs": [
    {
     "name": "stdout",
     "output_type": "stream",
     "text": [
      "+------+--------+--------+------+-------+--------+--------+--------+-------+---------+------------+--------------+\n",
      "| close|    high|     low|  open| volume|adjClose| adjHigh|  adjLow|adjOpen|adjVolume|updated_date|dependent_feat|\n",
      "+------+--------+--------+------+-------+--------+--------+--------+-------+---------+------------+--------------+\n",
      "|718.27|  722.47|  713.12|716.48|1306065|  718.27|  722.47|  713.12| 716.48|  1306065|  2016-06-14|      [716.48]|\n",
      "|718.92|  722.98|  717.31| 719.0|1214517|  718.92|  722.98|  717.31|  719.0|  1214517|  2016-06-15|       [719.0]|\n",
      "|710.36|  716.65|  703.26|714.91|1982471|  710.36|  716.65|  703.26| 714.91|  1982471|  2016-06-16|      [714.91]|\n",
      "|691.72|  708.82|688.4515|708.65|3402357|  691.72|  708.82|688.4515| 708.65|  3402357|  2016-06-17|      [708.65]|\n",
      "|693.71|  702.48|  693.41|698.77|2082538|  693.71|  702.48|  693.41| 698.77|  2082538|  2016-06-20|      [698.77]|\n",
      "|695.94|  702.77|  692.01| 698.4|1465634|  695.94|  702.77|  692.01|  698.4|  1465634|  2016-06-21|       [698.4]|\n",
      "|697.46|  700.86|693.0819|699.06|1184318|  697.46|  700.86|693.0819| 699.06|  1184318|  2016-06-22|      [699.06]|\n",
      "|701.87|  701.95|   687.0|697.45|2171415|  701.87|  701.95|   687.0| 697.45|  2171415|  2016-06-23|      [697.45]|\n",
      "|675.22|   689.4|  673.45|675.17|4449022|  675.22|   689.4|  673.45| 675.17|  4449022|  2016-06-24|      [675.17]|\n",
      "|668.26|   672.3| 663.284| 671.0|2641085|  668.26|   672.3| 663.284|  671.0|  2641085|  2016-06-27|       [671.0]|\n",
      "|680.04|  680.33|   673.0|678.97|2173762|  680.04|  680.33|   673.0| 678.97|  2173762|  2016-06-28|      [678.97]|\n",
      "|684.11|687.4292|  681.41| 683.0|1932561|  684.11|687.4292|  681.41|  683.0|  1932561|  2016-06-29|       [683.0]|\n",
      "| 692.1|  692.32|  683.65|685.47|1597714|   692.1|  692.32|  683.65| 685.47|  1597714|  2016-06-30|      [685.47]|\n",
      "|699.21|  700.65|692.1301| 692.2|1344710|  699.21|  700.65|692.1301|  692.2|  1344710|  2016-07-01|       [692.2]|\n",
      "|694.49|  696.94|  688.88|696.06|1462616|  694.49|  696.94|  688.88| 696.06|  1462616|  2016-07-05|      [696.06]|\n",
      "|697.77|  701.68|  689.09|689.98|1411925|  697.77|  701.68|  689.09| 689.98|  1411925|  2016-07-06|      [689.98]|\n",
      "|695.36|   698.2| 688.215|698.08|1304200|  695.36|   698.2| 688.215| 698.08|  1304200|  2016-07-07|      [698.08]|\n",
      "|705.63|  705.71| 696.435| 699.5|1575166|  705.63|  705.71| 696.435|  699.5|  1575166|  2016-07-08|       [699.5]|\n",
      "|715.09|  716.51|  707.24|708.05|1111762|  715.09|  716.51|  707.24| 708.05|  1111762|  2016-07-11|      [708.05]|\n",
      "|720.64|  722.94|  715.91|719.12|1336921|  720.64|  722.94|  715.91| 719.12|  1336921|  2016-07-12|      [719.12]|\n",
      "+------+--------+--------+------+-------+--------+--------+--------+-------+---------+------------+--------------+\n",
      "only showing top 20 rows\n",
      "\n"
     ]
    }
   ],
   "source": [
    "assembler = VectorAssembler(inputCols= ['open'], outputCol= 'dependent_feat')\n",
    "df = assembler.transform(final_df)\n",
    "df.show()"
   ]
  },
  {
   "cell_type": "code",
   "execution_count": 107,
   "id": "80fcf91d-89bd-4ed7-a677-db333c997701",
   "metadata": {},
   "outputs": [],
   "source": [
    "training, testing =  df.select('dependent_feat', 'close').randomSplit([0.8, 0.2])"
   ]
  },
  {
   "cell_type": "code",
   "execution_count": null,
   "id": "379eac3d-7013-4490-9bfe-affb3667f264",
   "metadata": {},
   "outputs": [],
   "source": [
    "from pyspark.ml.evaluation import RegressionEvaluator\n",
    "reg_evaluated = RegressionEvaluator(predictionCol=\"prediction\", labelCol=\"close\",metricName=\"r2\")"
   ]
  },
  {
   "cell_type": "code",
   "execution_count": 135,
   "id": "bf298d81-bdbb-4bdd-9ff7-de02396fb0ac",
   "metadata": {},
   "outputs": [
    {
     "name": "stdout",
     "output_type": "stream",
     "text": [
      "Intercept -0.4213149669173777\n",
      "Coefficients 1.0012657896103523\n",
      "R2 Score for train data for Linear Model 0.9981210204746053\n",
      "R2 Score on test data for Linear Model 0.9983231837964388\n"
     ]
    }
   ],
   "source": [
    "lienar_model = LinearRegression(maxIter=10,regParam = 0.1, elasticNetParam=0.8, featuresCol= 'dependent_feat', labelCol= 'close')\n",
    "\n",
    "lienar_fitted_model = lienar_model.fit(training)\n",
    "\n",
    "intercept = lienar_fitted_model.intercept\n",
    "coeef = lienar_fitted_model.coefficients[0]\n",
    "print('Intercept', intercept)\n",
    "print('Coefficients', coeef)\n",
    "\n",
    "r2_score = lienar_fitted_model.summary.r2\n",
    "print('R2 Score for train data for Linear Model', r2_score)\n",
    "\n",
    "linear_pred = lienar_fitted_model.transform(testing)\n",
    "print(\"R2 Score on test data for Linear Model\", reg_evaluated.evaluate(linear_pred))"
   ]
  },
  {
   "cell_type": "code",
   "execution_count": 136,
   "id": "1de8033e-e53f-47ed-a8f1-6721c298179d",
   "metadata": {},
   "outputs": [
    {
     "name": "stdout",
     "output_type": "stream",
     "text": [
      "R2 Score on train data for GBT Model 0.9929548890754568\n",
      "R2 Score on test data for GBT Model 0.9934773044615969\n"
     ]
    }
   ],
   "source": [
    "gbt_model = GBTRegressor(featuresCol= 'dependent_feat', labelCol= 'close')\n",
    "\n",
    "# Fit the model\n",
    "gbt_fitted_model = gbt_model.fit(training)\n",
    "\n",
    "train_pred = gbt_fitted_model.transform(training)\n",
    "test_pred = gbt_fitted_model.transform(testing)\n",
    "\n",
    "print(\"R2 Score on train data for GBT Model\", reg_evaluated.evaluate(train_pred))\n",
    "print(\"R2 Score on test data for GBT Model\", reg_evaluated.evaluate(test_pred))"
   ]
  },
  {
   "cell_type": "code",
   "execution_count": 137,
   "id": "a3e2f17f-6a62-4c90-8d86-920ef3a84cab",
   "metadata": {},
   "outputs": [
    {
     "name": "stdout",
     "output_type": "stream",
     "text": [
      "R2 Score on train data for Random Forest Model 0.9928553316532696\n",
      "R2 Score on test data for  Random Forest Model 0.9933849049307797\n"
     ]
    }
   ],
   "source": [
    "random_model = RandomForestRegressor(featuresCol= 'dependent_feat', labelCol= 'close')\n",
    "\n",
    "# Fit the model\n",
    "random_model_fitted = random_model.fit(training)\n",
    "\n",
    "train_pred = random_model_fitted.transform(training)\n",
    "test_pred = random_model_fitted.transform(testing)\n",
    "\n",
    "print(\"R2 Score on train data for Random Forest Model\", reg_evaluated.evaluate(train_pred))\n",
    "print(\"R2 Score on test data for  Random Forest Model\", reg_evaluated.evaluate(test_pred))"
   ]
  },
  {
   "cell_type": "code",
   "execution_count": null,
   "id": "ab676434-efcc-46ef-8ac9-a65552969a34",
   "metadata": {},
   "outputs": [],
   "source": []
  }
 ],
 "metadata": {
  "kernelspec": {
   "display_name": "Python 3 (ipykernel)",
   "language": "python",
   "name": "python3"
  },
  "language_info": {
   "codemirror_mode": {
    "name": "ipython",
    "version": 3
   },
   "file_extension": ".py",
   "mimetype": "text/x-python",
   "name": "python",
   "nbconvert_exporter": "python",
   "pygments_lexer": "ipython3",
   "version": "3.8.10"
  }
 },
 "nbformat": 4,
 "nbformat_minor": 5
}
